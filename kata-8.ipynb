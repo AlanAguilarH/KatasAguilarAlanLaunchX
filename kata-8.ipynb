{
 "cells": [
  {
   "cell_type": "markdown",
   "metadata": {},
   "source": [
    "## Ejercicio: Crear y modificar un diccionario de Python\n",
    "\n",
    "Para este ejercicio, crearás un diccionario que almacene información sobre el planeta Marte.\n",
    "\n",
    "Agrega el código para crear un nuevo diccionario denominado 'planet'. Rellena con la siguiente información:"
   ]
  },
  {
   "cell_type": "markdown",
   "metadata": {},
   "source": [
    "name: Mars\n",
    "moons: 2"
   ]
  },
  {
   "cell_type": "code",
   "execution_count": 9,
   "metadata": {},
   "outputs": [],
   "source": [
    "# Crea un diccionario llamado planet con los datos propuestos\n",
    "#solucion\n",
    "planeta = {\n",
    "    'nombre': 'Marte',\n",
    "    'lunas (satelites)': 2\n",
    "}\n"
   ]
  },
  {
   "cell_type": "markdown",
   "metadata": {},
   "source": [
    "Para recuperar valores, puede utilizar el método get o corchetes ([ ]) con el nombre de la clave que desea recuperar."
   ]
  },
  {
   "cell_type": "code",
   "execution_count": 11,
   "metadata": {},
   "outputs": [
    {
     "name": "stdout",
     "output_type": "stream",
     "text": [
      "nombre de planeta es: Marte , numero de lunas que tiene 2\n",
      "nombre de planeta es: Marte, numero de lunas que tiene 2\n",
      "nombre de planeta es: Marte , numero de lunas que tiene 2\n"
     ]
    }
   ],
   "source": [
    "# Muestra el nombre del planeta y el número de lunas que tiene.\n",
    "#solucion caso 1\n",
    "print(\"nombre de planeta es:\", planeta.get('nombre'), \", numero de lunas que tiene\", planeta.get('lunas (satelites)'))\n",
    "\n",
    "#caso 2\n",
    "print (f'nombre de planeta es: {planeta[\"nombre\"]}, numero de lunas que tiene {planeta[\"lunas (satelites)\"]}')\n",
    "\n",
    "#caso 3\n",
    "print(\"nombre de planeta es:\", planeta['nombre'], \", numero de lunas que tiene\", planeta['lunas (satelites)'])"
   ]
  },
  {
   "cell_type": "markdown",
   "metadata": {},
   "source": [
    "Agrega un nuevo valor con una clave de 'circunferencia (km)'. \n",
    "\n",
    "Este nuevo valor debería almacenar un diccionario con las dos circunferencias del planeta:"
   ]
  },
  {
   "cell_type": "markdown",
   "metadata": {},
   "source": [
    "polar: 6752\n",
    "equatorial: 6792"
   ]
  },
  {
   "cell_type": "code",
   "execution_count": 12,
   "metadata": {},
   "outputs": [],
   "source": [
    "# Agrega la clave circunferencia con los datos proporcionados previamente\n",
    "# solucion\n",
    "\n",
    "planeta['circunferencia (km)'] = {\n",
    "    'polar': 6752,\n",
    "    'equatorial': 6792\n",
    "}"
   ]
  },
  {
   "cell_type": "markdown",
   "metadata": {},
   "source": [
    "Imprime el nombre del planeta con su circunferencia polar"
   ]
  },
  {
   "cell_type": "code",
   "execution_count": 29,
   "metadata": {},
   "outputs": [
    {
     "name": "stdout",
     "output_type": "stream",
     "text": [
      "nombre de planeta es: Marte , su ciruferencia en polar: 6752 km\n",
      "nombre de planeta es: Marte, su ciruferencia polar: 6752 km \n",
      "nombre de planeta es: Marte , su ciruferencia en polar: 6752 km\n"
     ]
    }
   ],
   "source": [
    "# Imprime el nombre del planeta con su circunferencia polar.\n",
    "#solucion caso 1\n",
    "print(\"nombre de planeta es:\", planeta.get('nombre'),\", su ciruferencia en polar:\", planeta['circunferencia (km)'].get('polar'),\"km\")\n",
    "\n",
    "#caso 2\n",
    "print (f'nombre de planeta es: {planeta[\"nombre\"]}, su ciruferencia polar: {planeta[\"circunferencia (km)\"][\"polar\"]} km ')\n",
    "\n",
    "#caso 3\n",
    "print(\"nombre de planeta es:\",planeta['nombre'],\", su ciruferencia en polar:\", planeta['circunferencia (km)']['polar'], \"km\" )"
   ]
  },
  {
   "cell_type": "markdown",
   "metadata": {},
   "source": [
    "## Ejercicio 2: Programación dinámica con diccionarios\n",
    "Ejercicio: Cálculo de valores.\n",
    "\n",
    "En este escenario, calcularás tanto el número total de lunas en el sistema solar como el número promedio de lunas que tiene un planeta."
   ]
  },
  {
   "cell_type": "code",
   "execution_count": 32,
   "metadata": {},
   "outputs": [],
   "source": [
    "# Planets and moons\n",
    "\n",
    "planeta_lunas = {\n",
    "    'mercurio': 0,\n",
    "    'venus': 0,\n",
    "    'tierra': 1,\n",
    "    'marte': 2,\n",
    "    'jupiter': 79,\n",
    "    'saturno': 82,\n",
    "    'uranio': 27,\n",
    "    'neptuno': 14,\n",
    "    'pluton': 5,\n",
    "    'haumea': 2,\n",
    "    'makemake': 1,\n",
    "    'eris': 1\n",
    "}"
   ]
  },
  {
   "cell_type": "markdown",
   "metadata": {},
   "source": [
    "Los diccionarios de Python te permiten recuperar todos los valores y claves utilizando los métodos values y keys, respectivamente. Cada método devuelve una lista que contiene los datos, que luego se puede usar como una lista normal de Python. Puedes determinar el número de elementos mediante len, e iterar a través de él mediante un ciclo for.\n",
    "\n",
    "Agrega el código a continuación para determinar el número de lunas. Comienza almacenando el valor values de planeta_lunas en una variable denominada lunas. A continuación, almacena el número de planetas en una variable denominada planetas."
   ]
  },
  {
   "cell_type": "code",
   "execution_count": 35,
   "metadata": {},
   "outputs": [],
   "source": [
    "# Añade el código para determinar el número de lunas.\n",
    "\n",
    "#solucion\n",
    "#Comienza almacenando el valor values de planeta_lunas en una variable denominada lunas.\n",
    "\n",
    "lunas =  planeta_lunas.values()\n",
    "\n",
    "#A continuación, almacena el número de planetas en una variable denominada planetas.\n",
    "#tip Puedes determinar el número de elementos mediante len()\n",
    "\n",
    "planetas = len(planeta_lunas.keys())"
   ]
  },
  {
   "cell_type": "markdown",
   "metadata": {},
   "source": [
    "Agrega el código para contar el número de lunas. Puedes hacerlo creando un ciclo for para iterar a través de las lunas \"lunas\" y agregándolos a una variable denominada total_lunas. Finalmente calcule el promedio dividiendo total_lunas por planetas e imprimiendo los resultados."
   ]
  },
  {
   "cell_type": "code",
   "execution_count": 40,
   "metadata": {},
   "outputs": [
    {
     "name": "stdout",
     "output_type": "stream",
     "text": [
      " su promedio es: 17.83 \n"
     ]
    }
   ],
   "source": [
    "# Agrega el código para contar el número de lunas. \n",
    "# solucion\n",
    "total_lunas = 0 #inicia la cantidad de total_lunas\n",
    "for luna in lunas:\n",
    "    total_lunas = total_lunas + luna\n",
    "\n",
    "#calcule el promedio dividiendo total_lunas por planets e imprimiendo los resultados\n",
    "\n",
    "promedio = total_lunas / planetas\n",
    "\n",
    "# imprimendo \n",
    "\n",
    "print(f' su promedio es: {round(promedio,2)} ')"
   ]
  }
 ],
 "metadata": {
  "interpreter": {
   "hash": "aecd030d4c8316a52bf122072e28f84bcc79844c2684e041fef2e3f1d9f59078"
  },
  "kernelspec": {
   "display_name": "Python 3.10.2 64-bit",
   "language": "python",
   "name": "python3"
  },
  "language_info": {
   "codemirror_mode": {
    "name": "ipython",
    "version": 3
   },
   "file_extension": ".py",
   "mimetype": "text/x-python",
   "name": "python",
   "nbconvert_exporter": "python",
   "pygments_lexer": "ipython3",
   "version": "3.10.2"
  },
  "orig_nbformat": 4
 },
 "nbformat": 4,
 "nbformat_minor": 2
}
