{
 "cells": [
  {
   "cell_type": "markdown",
   "metadata": {},
   "source": [
    "Ejercicio 1: Trabajar con argumentos en funciones.\n",
    "\n",
    "Los argumentos requeridos en las funciones se utilizan cuando las funciones necesitan que esos argumentos funcionen correctamente. \n",
    "En este ejercicio, construirás un informe de combustible que requiere información de varias ubicaciones de combustible en todo el cohete.\n",
    "\n",
    "Comienza por crear una función que necesite tres lecturas de combustible y devuelva un informe:"
   ]
  },
  {
   "cell_type": "code",
   "execution_count": 7,
   "metadata": {},
   "outputs": [],
   "source": [
    "# Función para leer 3 tanques de combustible y muestre el promedio\n",
    "# solucion\n",
    "def tanq_combus(prim_tanq, secund_tanq, aux_tanq):\n",
    "    total_prom_tanq = (prim_tanq + secund_tanq + aux_tanq)/3\n",
    "    return f\"\"\"informe del combustible:\n",
    "    tanque primario: {prim_tanq} %\n",
    "    tanque secundaria: {secund_tanq} %\n",
    "    tanque auxiliar: {aux_tanq} %\n",
    "    tanque en genera: {total_prom_tanq} %\"\"\"\n"
   ]
  },
  {
   "cell_type": "markdown",
   "metadata": {},
   "source": [
    "Ahora que hemos definido la función de informes, vamos a comprobarlo. Para esta misión, los tanques no están llenos:"
   ]
  },
  {
   "cell_type": "code",
   "execution_count": 8,
   "metadata": {},
   "outputs": [
    {
     "name": "stdout",
     "output_type": "stream",
     "text": [
      "informe del combustible:\n",
      "    tanque primario: 90 %\n",
      "    tanque secundaria: 80 %\n",
      "    tanque auxiliar: 78 %\n",
      "    tanque en genera: 82.66666666666667 %\n"
     ]
    }
   ],
   "source": [
    "# Llamamos a la función que genera el reporte print(funcion(tanque1, tanque2, tanque3))\n",
    "# solucion\n",
    "\n",
    "print(tanq_combus(90,80,78))"
   ]
  },
  {
   "cell_type": "markdown",
   "metadata": {},
   "source": [
    "En lugar de simplemente crear el informe, la función también está calculando el promedio. Mejora la legibilidad extrayendo el cálculo promedio de la función en una nueva función para que el promedio se pueda hacer de forma independiente:"
   ]
  },
  {
   "cell_type": "code",
   "execution_count": 11,
   "metadata": {},
   "outputs": [],
   "source": [
    "# Función promedio \n",
    "# solucion\n",
    "\n",
    "def promedio(valores):\n",
    "    total = sum(valores)\n",
    "    numeros_tanq = len(valores)\n",
    "    return total / numeros_tanq"
   ]
  },
  {
   "cell_type": "markdown",
   "metadata": {},
   "source": [
    "Ahora actualiza la función de informes para llamando a la nueva función del promedio:"
   ]
  },
  {
   "cell_type": "code",
   "execution_count": 13,
   "metadata": {},
   "outputs": [
    {
     "name": "stdout",
     "output_type": "stream",
     "text": [
      "informe del combustible:\n",
      "    tanque primario: 95 %\n",
      "    tanque secundaria: 70 %\n",
      "    tanque auxiliar: 58 %\n",
      "    tanque en genera: 74.33 %\n"
     ]
    }
   ],
   "source": [
    "# Actualiza la función\n",
    "# solucion\n",
    "\n",
    "def tanq_combus(prim_tanq, secund_tanq, aux_tanq):\n",
    "    return f\"\"\"informe del combustible:\n",
    "    tanque primario: {prim_tanq} %\n",
    "    tanque secundaria: {secund_tanq} %\n",
    "    tanque auxiliar: {aux_tanq} %\n",
    "    tanque en genera: {round(promedio ([prim_tanq, secund_tanq, aux_tanq]),2)} %\"\"\"\n",
    "\n",
    "print (tanq_combus(95,70,58))"
   ]
  },
  {
   "cell_type": "markdown",
   "metadata": {},
   "source": [
    "## Ejercicio 2: Trabajo con argumentos de palabra clave\n",
    "\n",
    "En este ejercicio, construirás un informe de cohete que requiere varias piezas de información, como el tiempo hasta el destino, el combustible a la izquierda y el nombre del destino. Comienza por crear una función que creará un informe preciso de la misión:"
   ]
  },
  {
   "cell_type": "code",
   "execution_count": 23,
   "metadata": {},
   "outputs": [
    {
     "name": "stdout",
     "output_type": "stream",
     "text": [
      "\n",
      "    En mision a Marte\n",
      "    Tiempo total de viaje: 162 minutos\n",
      "    Total en combustible que quedan: 850000 litros\n",
      "    \n"
     ]
    }
   ],
   "source": [
    "# Función con un informe preciso de la misión. Considera hora de prelanzamiento, tiempo de vuelo, destino, tanque externo y tanque interno\n",
    "# solucion\n",
    "\n",
    "def informe_preciso_de_la_misión (hora_de_prelanzamiento, tiempo_de_vuelo, destino, tanque_externo, tanque_interno):\n",
    "    return f\"\"\"\n",
    "    En mision a {destino}\n",
    "    Tiempo total de viaje: {hora_de_prelanzamiento + tiempo_de_vuelo} minutos\n",
    "    Total en combustible que quedan: {tanque_externo + tanque_interno} litros\n",
    "    \"\"\"\n",
    "print(informe_preciso_de_la_misión(20, 142, \"Marte\", 400000, 450000))\n"
   ]
  },
  {
   "cell_type": "markdown",
   "metadata": {},
   "source": [
    "La función es problemática porque no se puede adaptar para minutos adicionales o tanques adicionales de combustible. Hazlo más flexible permitiendo cualquier número de pasos basados en el tiempo y cualquier número de tanques. \n",
    "En lugar de usar *args y **kwargs, aprovecha el hecho de que puedes usar cualquier nombre que desees. Asegurate que la función sea más legible mediante el uso de nombres de variables que están asociados con las entradas, como *minutes y **fuel_reservoirs:"
   ]
  },
  {
   "cell_type": "code",
   "execution_count": 40,
   "metadata": {},
   "outputs": [
    {
     "name": "stdout",
     "output_type": "stream",
     "text": [
      "\n",
      "    En mision a Venus\n",
      "    Tiempo total de viaje: 170 minutos\n",
      "    Total en combustible que quedan: 1020000 litros\n",
      "    \n"
     ]
    }
   ],
   "source": [
    "# Escribe tu nueva función de reporte considerando lo anterior\n",
    "# solucion\n",
    "\n",
    "def informe__de_la_misión(destino, *minutos, **combus_resv):\n",
    "    return f\"\"\"\n",
    "    En mision a {destino}\n",
    "    Tiempo total de viaje: {sum(minutos)} minutos\n",
    "    Total en combustible que quedan: {sum(combus_resv.values())} litros\n",
    "    \"\"\"\n",
    "print(informe_preciso_de_la_misión(8, 162, \"Venus\", tanque_interno=420000, tanque_externo=600000))\n"
   ]
  },
  {
   "cell_type": "markdown",
   "metadata": {},
   "source": [
    "Debido a que el combustible que queda en los tanques es específico de cada tanque, actualiza la función para usar el nombre de cada tanque en el informe:"
   ]
  },
  {
   "cell_type": "code",
   "execution_count": 39,
   "metadata": {},
   "outputs": [
    {
     "name": "stdout",
     "output_type": "stream",
     "text": [
      "\n",
      "    En mision a Marte\n",
      "    Tiempo total de viaje: 139 minutos\n",
      "    Total en combustible que quedan: 597000 litros\n",
      "    \n"
     ]
    }
   ],
   "source": [
    "# Escribe tu nueva función\n",
    "# solucion\n",
    "\n",
    "\n",
    "def informe__de_la_misión(destino, *minutos, **combus_resv):\n",
    "    repote_principal = f\"\"\"\n",
    "    En mision a {destino}\n",
    "    Tiempo total de viaje: {sum(minutos)} minutos\n",
    "    Total en combustible que quedan: {sum(combus_resv.values())} litros\n",
    "    \"\"\"\n",
    "    for nom_tanq, litros in combus_resv.items():\n",
    "        repote_principal += f\"{nom_tanq} tanque --> {litros} litros que quedan\"\n",
    "    return repote_principal\n",
    "print(informe_preciso_de_la_misión(15, 124, \"Marte\", tanque_interno=352000, tanque_externo=245000))\n"
   ]
  }
 ],
 "metadata": {
  "interpreter": {
   "hash": "57baa5815c940fdaff4d14510622de9616cae602444507ba5d0b6727c008cbd6"
  },
  "kernelspec": {
   "display_name": "Python 3.7.8 64-bit",
   "language": "python",
   "name": "python3"
  },
  "language_info": {
   "codemirror_mode": {
    "name": "ipython",
    "version": 3
   },
   "file_extension": ".py",
   "mimetype": "text/x-python",
   "name": "python",
   "nbconvert_exporter": "python",
   "pygments_lexer": "ipython3",
   "version": "3.10.2"
  },
  "orig_nbformat": 4
 },
 "nbformat": 4,
 "nbformat_minor": 2
}
