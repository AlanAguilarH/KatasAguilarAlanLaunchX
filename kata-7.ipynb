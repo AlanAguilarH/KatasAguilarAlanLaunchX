{
 "cells": [
  {
   "cell_type": "markdown",
   "metadata": {},
   "source": [
    "Ejercicio 1: Creación de un bucle \"while\" , Uso de ciclos while en Python.\n",
    "\n",
    "En Python, los ciclos while te permiten ejecutar código un número desconocido de veces. Los ciclos examinan una condición booleana y, siempre que la condición sea verdadera, se ejecutará el código dentro del ciclo. Esto es muy útil para situaciones como solicitar valores a un usuario.\n",
    "\n",
    "En este ejercicio, estás creando una aplicación que solicita a un usuario que ingrese una lista de planetas. En un ejercicio posterior, agregarás código que muestre la lista. Por ahora, crearás solo el código que solicita al usuario la lista de planetas.\n",
    "\n",
    "Comienza agregando dos variables, una para la entrada del usuario, con el nombre new_planet, y otra variable para la lista de planetas, denominada planets."
   ]
  },
  {
   "cell_type": "code",
   "execution_count": 1,
   "metadata": {},
   "outputs": [],
   "source": [
    "# Declara dos variables                     |\n",
    "# el nombre new_planet                      |\n",
    "# Creamos la variable que almacena el texto |\n",
    "# ejemplo user_input = ''                   |\n",
    "                                        #   |\n",
    "nuevo_planeta = ''                   #   <---\n",
    "planetas = []                        #   <---------------------------------------\n",
    "                                                                            #   |\n",
    "# la lista de planetas, denominada planets                                      |\n",
    "# Creamos la lista que almacena cada uno de los textos que el usuario ingresa   |\n",
    "# ejemplo inputs = []                                                           |"
   ]
  },
  {
   "cell_type": "markdown",
   "metadata": {},
   "source": [
    "Crea un ciclo while.\n",
    "\n",
    "Comenzando con las variables que acabas de crear, crearás un ciclo while. El ciclo while se ejecutará mientras el new_planet no sea igual a la palabra 'done'.\n",
    "\n",
    "Dentro del ciclo, comprobarás si la variable new_planet contiene un valor, que debería ser el nombre de un planeta. Esta es una forma rápida de ver si el usuario ha introducido un valor. Si lo han hecho, tu código agregará (append) ese valor a la variable planets.\n",
    "\n",
    "Finalmente, usarás input para solicitar al usuario que ingrese un nuevo nombre de planeta o que escriba done si ha terminado de ingresar nombres de planeta. Almacenará el valor de input en la variable new_planet."
   ]
  },
  {
   "cell_type": "code",
   "execution_count": 27,
   "metadata": {},
   "outputs": [
    {
     "name": "stdout",
     "output_type": "stream",
     "text": [
      "en caso de terminar la lista pone done\n",
      "en caso de terminar la lista pone done\n",
      "en caso de terminar la lista pone done\n",
      "en caso de terminar la lista pone done\n",
      "en caso de terminar la lista pone done\n",
      "en caso de terminar la lista pone done\n",
      "en caso de terminar la lista pone done\n",
      "en caso de terminar la lista pone done\n",
      "en caso de terminar la lista pone done\n",
      "en caso de terminar la lista pone done\n",
      "en caso de terminar la lista pone done\n"
     ]
    }
   ],
   "source": [
    "# Escribe el ciclo while solicitado\n",
    "# solucion \n",
    "# nota en caso de done se puede usar cuando cualquier string de datos como terminado\n",
    "while nuevo_planeta.lower() != 'done':\n",
    "    # Verificamos si hay un valor en user_input es decir nuevo_planeta\n",
    "    if nuevo_planeta:\n",
    "        # Almacenamos ese valor en la lista (planeta[])\n",
    "        planetas.append(nuevo_planeta)\n",
    "    # Capturamos un nuevo valor\n",
    "    print(\"en caso de terminar la lista pone done\")\n",
    "    nuevo_planeta = input('Escribre una nueva planeta')"
   ]
  },
  {
   "cell_type": "code",
   "execution_count": 28,
   "metadata": {},
   "outputs": [
    {
     "name": "stdout",
     "output_type": "stream",
     "text": [
      "Marte\n",
      "done\n",
      "Tierra\n",
      "Marte\n",
      "Venus\n",
      "Mercurio\n",
      "Uranio\n",
      "Neptunio\n",
      "Jupiter\n",
      "Pluton\n",
      "Xena\n",
      "ok\n",
      "Mercurio\n",
      "Venus\n",
      "Tierra\n",
      "Marte\n",
      "Jupiter\n",
      "Saturno\n",
      "Neptuno\n",
      "Uranio\n",
      "Pluton\n",
      "Xena\n"
     ]
    }
   ],
   "source": [
    "# Escribe tu ciclo for para iterar en una lista de planetas\n",
    "#solucion\n",
    "\n",
    "# Para cada dato en planetas\n",
    "for planeta in planetas:\n",
    "    #Muestra el planeta\n",
    "    print(planeta)"
   ]
  }
 ],
 "metadata": {
  "interpreter": {
   "hash": "aecd030d4c8316a52bf122072e28f84bcc79844c2684e041fef2e3f1d9f59078"
  },
  "kernelspec": {
   "display_name": "Python 3.10.2 64-bit",
   "language": "python",
   "name": "python3"
  },
  "language_info": {
   "codemirror_mode": {
    "name": "ipython",
    "version": 3
   },
   "file_extension": ".py",
   "mimetype": "text/x-python",
   "name": "python",
   "nbconvert_exporter": "python",
   "pygments_lexer": "ipython3",
   "version": "3.10.2"
  },
  "orig_nbformat": 4
 },
 "nbformat": 4,
 "nbformat_minor": 2
}
