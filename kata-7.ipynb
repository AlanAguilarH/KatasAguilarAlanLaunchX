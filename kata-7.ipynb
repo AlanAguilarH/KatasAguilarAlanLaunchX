{
 "cells": [
  {
   "cell_type": "markdown",
   "metadata": {},
   "source": [
    "## Ejercicio1: Crear y usar listas de Python.\n",
    "\n",
    "Ejercicio: Usar listas para almacenar nombres de planetas.\n",
    "\n",
    "Las listas permiten almacenar varios valores en una sola variable. Comenzarás un proyecto sobre información planetaria creando una lista de planetas.\n",
    "\n",
    "En primer lugar, crea una variable denominada planets. Agrega los ocho planetas (sin Plutón) a la lista. A continuación, muestra el número de planetas."
   ]
  },
  {
   "cell_type": "code",
   "execution_count": 1,
   "metadata": {},
   "outputs": [],
   "source": [
    "# Creamos la lista planets y la mostramos\n",
    "# solucion\n",
    "planetas = ['Mercurio', 'Venus', 'Tierra', 'Marte', 'Jupiter', 'Saturno', 'Urano', 'Neptuno']"
   ]
  },
  {
   "cell_type": "markdown",
   "metadata": {},
   "source": [
    "Agrega a Plutón a la lista que creaste. Luego muestra tanto el número de planetas como el último planeta de la lista."
   ]
  },
  {
   "cell_type": "code",
   "execution_count": 12,
   "metadata": {},
   "outputs": [
    {
     "name": "stdout",
     "output_type": "stream",
     "text": [
      "Aqui actualmente son 9 planetas en el sistema solar.\n",
      "Aqui actualmente son 9 planetas en el sistema solar.\n",
      " Aqui actualmente son 9 planetas en el sistema solar.\n"
     ]
    }
   ],
   "source": [
    "# Agregamos a plutón y mostramos el último elemento\n",
    "# solucion\n",
    "planetas.append('Pluton')\n",
    "number_of_planets = len(planetas)\n",
    "print('Aqui actualmente son', number_of_planets, 'planetas en el sistema solar.')\n",
    "\n",
    "# tambien valido\n",
    "print('Aqui actualmente son', len(planetas), 'planetas en el sistema solar.')\n",
    "\n",
    "# otro mas\n",
    "print(f' Aqui actualmente son {len(planetas)} planetas en el sistema solar.')"
   ]
  },
  {
   "cell_type": "markdown",
   "metadata": {},
   "source": [
    "## Ejercicio 2: Trabajando con datos de una lista.\n",
    "\n",
    "Usar slices para recuperar partes de una lista.\n",
    "\n",
    "Es posible que debas trabajar con diferentes secciones de una lista. En nuestro ejemplo, queremos mostrar planetas más cerca y más lejos del sol de un planeta que el usuario ingresa por teclado.\n",
    "\n",
    "Comienza agregando el código para crear una lista con los planetas."
   ]
  },
  {
   "cell_type": "code",
   "execution_count": 13,
   "metadata": {},
   "outputs": [],
   "source": [
    "# Lista de planetas\n",
    "#planets = ['Mercury', 'Venus', 'Earth', 'Mars', 'Jupiter', 'Saturn', 'Neptune']\n",
    "#solucion\n",
    "\n",
    "planetas = ['Mercurio', 'Venus', 'Tierra', 'Marte', 'Jupiter', 'Saturno', 'Neptuno']"
   ]
  },
  {
   "cell_type": "markdown",
   "metadata": {},
   "source": [
    "Solicita al usuario el nombre de un planeta.\n",
    "\n",
    "A continuación, agrega el código para solicitar al usuario un nombre. Debido a que las cadenas distinguen entre mayúsculas y minúsculas en Python, pídale al usuario que use una letra mayúscula para comenzar el nombre del planeta."
   ]
  },
  {
   "cell_type": "code",
   "execution_count": 14,
   "metadata": {},
   "outputs": [],
   "source": [
    "# Solicitamos el nombre de un planeta *Pista:  input()*\n",
    "# solucion\n",
    "\n",
    "nom_planeta = input('¿cual es el nombre de planeta vas a buscar?')"
   ]
  },
  {
   "cell_type": "markdown",
   "metadata": {},
   "source": [
    "Encuentra el planeta en la lista.\n",
    "\n",
    "Para determinar qué planetas están más cerca que el que ingresó el usuario, debes encontrar dónde está el planeta en la lista. Puedes utilizar index para realizar esta operación. Agrega el código para encontrar el índice del planeta."
   ]
  },
  {
   "cell_type": "code",
   "execution_count": 17,
   "metadata": {},
   "outputs": [],
   "source": [
    "# Busca el planeta en la lista\n",
    "# solucion\n",
    "# x = list.index(elmnt)\n",
    "# eso no, planeta_index = planetas.index('nom_planeta')\n",
    "planeta_index = planetas.index(nom_planeta)"
   ]
  },
  {
   "cell_type": "markdown",
   "metadata": {},
   "source": [
    "Mostrar planetas más cercanos al sol que el que el usuario ingresó.\n",
    "\n",
    "Con el índice determinado, ahora puedes agregar el código para mostrar los planetas más cercanos al sol."
   ]
  },
  {
   "cell_type": "code",
   "execution_count": 20,
   "metadata": {},
   "outputs": [
    {
     "name": "stdout",
     "output_type": "stream",
     "text": [
      " los planetas mas cercanos del planeta Tierra al sol son las siguientes \n",
      "['Mercurio', 'Venus']\n",
      "los planetas mas cercanos del planetaTierraal sol son las siguientes\n",
      "['Mercurio', 'Venus']\n"
     ]
    }
   ],
   "source": [
    "# Muestra los planetas más cercanos al sol\n",
    "# solucion\n",
    "\n",
    "planetas_mas_cer= planetas [0:planeta_index]\n",
    "print(f\"\"\" los planetas mas cercanos del planeta {nom_planeta} al sol son las siguientes \n",
    "{planetas_mas_cer}\"\"\")\n",
    "\n",
    "#tambien es valido\n",
    "\n",
    "print('los planetas mas cercanos del planeta' + nom_planeta + \n",
    "'al sol son las siguientes')\n",
    "print(planetas[0:planeta_index])"
   ]
  },
  {
   "cell_type": "markdown",
   "metadata": {},
   "source": [
    "Mostrar planetas más alejados del sol que el que el usuario ingresó.\n",
    "\n",
    "Puedes usar el mismo índice para mostrar planetas más alejados del sol. Sin embargo, recuerda que el índice inicial se incluye cuando usas un slice. Como resultado, tendrás que agregar 1 al valor. Agrega el código para mostrar los planetas más alejados del sol."
   ]
  },
  {
   "cell_type": "code",
   "execution_count": 22,
   "metadata": {},
   "outputs": [
    {
     "name": "stdout",
     "output_type": "stream",
     "text": [
      " los planetas mas lejanas del planeta Tierra al sol son las siguientes \n",
      "['Marte', 'Jupiter', 'Saturno', 'Neptuno']\n",
      "los planetas mas lejanas del planeta Tierraal sol son las siguientes \n",
      "['Marte', 'Jupiter', 'Saturno', 'Neptuno']\n"
     ]
    }
   ],
   "source": [
    "# Muestra los planetas más lejanos al sol\n",
    "# solucion\n",
    "\n",
    "planetas_mas_lej= planetas [planeta_index+1:7]\n",
    "print(f\"\"\" los planetas mas lejanas del planeta {nom_planeta} al sol son las siguientes \n",
    "{planetas_mas_lej}\"\"\")\n",
    "\n",
    "#tambien es la sig\n",
    "\n",
    "print('los planetas mas lejanas del planeta ' + nom_planeta + 'al sol son las siguientes ')\n",
    "print(planetas[planeta_index + 1:])\n",
    "# en casp de slice [x+1:] se hacia hasta que termine la lista"
   ]
  }
 ],
 "metadata": {
  "interpreter": {
   "hash": "57baa5815c940fdaff4d14510622de9616cae602444507ba5d0b6727c008cbd6"
  },
  "kernelspec": {
   "display_name": "Python 3.7.8 64-bit",
   "language": "python",
   "name": "python3"
  },
  "language_info": {
   "codemirror_mode": {
    "name": "ipython",
    "version": 3
   },
   "file_extension": ".py",
   "mimetype": "text/x-python",
   "name": "python",
   "nbconvert_exporter": "python",
   "pygments_lexer": "ipython3",
   "version": "3.10.2"
  },
  "orig_nbformat": 4
 },
 "nbformat": 4,
 "nbformat_minor": 2
}
