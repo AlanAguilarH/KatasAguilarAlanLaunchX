{
 "cells": [
  {
   "cell_type": "code",
   "execution_count": 4,
   "metadata": {},
   "outputs": [
    {
     "name": "stdout",
     "output_type": "stream",
     "text": [
      "asttokens==2.0.5\n",
      "backcall==0.2.0\n",
      "black==22.1.0\n",
      "click==8.0.4\n",
      "colorama==0.4.4\n",
      "cycler==0.11.0\n",
      "debugpy==1.5.1\n",
      "decorator==5.1.1\n",
      "entrypoints==0.4\n",
      "executing==0.8.2\n",
      "fonttools==4.29.1\n",
      "ipykernel==6.9.1\n",
      "ipython==8.0.1\n",
      "jedi==0.18.1\n",
      "jupyter-client==7.1.2\n",
      "jupyter-core==4.9.2\n",
      "kiwisolver==1.3.2\n",
      "matplotlib==3.5.1\n",
      "matplotlib-inline==0.1.3\n",
      "mypy-extensions==0.4.3\n",
      "nest-asyncio==1.5.4\n",
      "numpy==1.22.2\n",
      "packaging==21.3\n",
      "parso==0.8.3\n",
      "pathspec==0.9.0\n",
      "pickleshare==0.7.5\n",
      "Pillow==9.0.1\n",
      "platformdirs==2.5.0\n",
      "prompt-toolkit==3.0.28\n",
      "pure-eval==0.2.2\n",
      "Pygments==2.11.2\n",
      "pyparsing==3.0.7\n",
      "python-dateutil==2.8.2\n",
      "pywin32==303\n",
      "pyzmq==22.3.0\n",
      "six==1.16.0\n",
      "stack-data==0.2.0\n",
      "tomli==2.0.1\n",
      "tornado==6.1\n",
      "traitlets==5.1.1\n",
      "wcwidth==0.2.5\n",
      "Note: you may need to restart the kernel to use updated packages.\n"
     ]
    }
   ],
   "source": [
    "pip freeze"
   ]
  },
  {
   "cell_type": "code",
   "execution_count": 1,
   "metadata": {},
   "outputs": [
    {
     "name": "stdout",
     "output_type": "stream",
     "text": [
      "Requirement already satisfied: python-dateutil in c:\\users\\user\\appdata\\roaming\\python\\python310\\site-packages (2.8.2)\n",
      "Requirement already satisfied: six>=1.5 in c:\\users\\user\\appdata\\roaming\\python\\python310\\site-packages (from python-dateutil) (1.16.0)\n",
      "Note: you may need to restart the kernel to use updated packages.\n"
     ]
    },
    {
     "name": "stderr",
     "output_type": "stream",
     "text": [
      "WARNING: You are using pip version 21.2.4; however, version 22.0.3 is available.\n",
      "You should consider upgrading via the 'C:\\Users\\User\\AppData\\Local\\Programs\\Python\\Python310\\python.exe -m pip install --upgrade pip' command.\n"
     ]
    }
   ],
   "source": [
    "pip install python-dateutil"
   ]
  },
  {
   "cell_type": "code",
   "execution_count": 5,
   "metadata": {},
   "outputs": [
    {
     "name": "stdout",
     "output_type": "stream",
     "text": [
      "asttokens==2.0.5\n",
      "backcall==0.2.0\n",
      "black==22.1.0\n",
      "click==8.0.4\n",
      "colorama==0.4.4\n",
      "cycler==0.11.0\n",
      "debugpy==1.5.1\n",
      "decorator==5.1.1\n",
      "entrypoints==0.4\n",
      "executing==0.8.2\n",
      "fonttools==4.29.1\n",
      "ipykernel==6.9.1\n",
      "ipython==8.0.1\n",
      "jedi==0.18.1\n",
      "jupyter-client==7.1.2\n",
      "jupyter-core==4.9.2\n",
      "kiwisolver==1.3.2\n",
      "matplotlib==3.5.1\n",
      "matplotlib-inline==0.1.3\n",
      "mypy-extensions==0.4.3\n",
      "nest-asyncio==1.5.4\n",
      "numpy==1.22.2\n",
      "packaging==21.3\n",
      "parso==0.8.3\n",
      "pathspec==0.9.0\n",
      "pickleshare==0.7.5\n",
      "Pillow==9.0.1\n",
      "platformdirs==2.5.0\n",
      "prompt-toolkit==3.0.28\n",
      "pure-eval==0.2.2\n",
      "Pygments==2.11.2\n",
      "pyparsing==3.0.7\n",
      "python-dateutil==2.8.2\n",
      "pywin32==303\n",
      "pyzmq==22.3.0\n",
      "six==1.16.0\n",
      "stack-data==0.2.0\n",
      "tomli==2.0.1\n",
      "tornado==6.1\n",
      "traitlets==5.1.1\n",
      "wcwidth==0.2.5\n",
      "Note: you may need to restart the kernel to use updated packages.\n"
     ]
    }
   ],
   "source": [
    "pip freeze"
   ]
  }
 ],
 "metadata": {
  "interpreter": {
   "hash": "aecd030d4c8316a52bf122072e28f84bcc79844c2684e041fef2e3f1d9f59078"
  },
  "kernelspec": {
   "display_name": "Python 3.10.2 64-bit",
   "language": "python",
   "name": "python3"
  },
  "language_info": {
   "codemirror_mode": {
    "name": "ipython",
    "version": 3
   },
   "file_extension": ".py",
   "mimetype": "text/x-python",
   "name": "python",
   "nbconvert_exporter": "python",
   "pygments_lexer": "ipython3",
   "version": "3.10.2"
  },
  "orig_nbformat": 4
 },
 "nbformat": 4,
 "nbformat_minor": 2
}
