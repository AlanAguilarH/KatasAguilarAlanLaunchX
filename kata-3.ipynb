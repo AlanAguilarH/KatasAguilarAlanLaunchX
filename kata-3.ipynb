{
 "cells": [
  {
   "cell_type": "markdown",
   "metadata": {},
   "source": [
    "## Segundo kata ejercicios"
   ]
  },
  {
   "cell_type": "markdown",
   "metadata": {},
   "source": [
    "Ejercicio 1\n",
    "\n",
    "Para este ejercicio, escribirás una lógica condicional que imprima una advertencia si un asteroide se acerca a la Tierra demasiado rápido. La velocidad del asteroide varía dependiendo de lo cerca que esté del sol, y cualquier velocidad superior a 25 kilómetros por segundo (km/s) merece una advertencia.\n",
    "\n",
    "Un asteroide se acerca, y viaja a una velocidad de 49 km/s."
   ]
  },
  {
   "cell_type": "code",
   "execution_count": null,
   "metadata": {},
   "outputs": [],
   "source": [
    "# Añadir el código necesario para crear una variable que guarde la velocidad del asteroide.\n",
    "# Escribe una expresión de prueba para calcular si necesita una advertencia.\n",
    "# Agregue las instrucciones que se ejecutarán si la expresión de prueba es true o false."
   ]
  },
  {
   "cell_type": "code",
   "execution_count": 1,
   "metadata": {},
   "outputs": [
    {
     "name": "stdout",
     "output_type": "stream",
     "text": [
      "¡Alerta roja! ¡Un asteroide se acerca a velocidades extremadamente peligrosas!, ¡Va a causar estragos y problemas!\n"
     ]
    }
   ],
   "source": [
    "# Solucion\n",
    "\n",
    "Vel_asteroide = 49\n",
    "if Vel_asteroide > 25:\n",
    "    print('¡Alerta roja! ¡Un asteroide se acerca a velocidades extremadamente peligrosas!, ¡Va a causar estragos y problemas!')\n",
    "else:\n",
    "    print('¡Todo en orden, sigamos en esta vida!')"
   ]
  },
  {
   "cell_type": "markdown",
   "metadata": {},
   "source": [
    "## Adicional \n",
    "Con la logica condicional que imprima una advertencia si un asteroide se acerca a la Tierra demasiado rápido. La velocidad del asteroide varía dependiendo de lo cerca que esté del sol, y cualquier velocidad superior a 25 kilómetros por segundo (km/s) merece una advertencia.\n",
    "\n",
    "Que revise un asteroide que se acerca, y viaja a una velocidad de constante por km/s"
   ]
  },
  {
   "cell_type": "code",
   "execution_count": 9,
   "metadata": {},
   "outputs": [
    {
     "name": "stdout",
     "output_type": "stream",
     "text": [
      "Velocimetro de asteroides\n",
      "Revisando su velocidad\n",
      "Su velocidad es 22 Km/s \n",
      "¡Todo en orden, sigamos en esta vida!\n"
     ]
    }
   ],
   "source": [
    "print(\"Velocimetro de asteroides\")\n",
    "Vel_asteroide =(input(\"Cuantos km/s\"))\n",
    "print(\"Revisando su velocidad\")\n",
    "if int(Vel_asteroide) > 25:\n",
    "    print( \"Su velocidad es \" + str(Vel_asteroide) + \" Km/s \")\n",
    "    print('¡Alerta roja! ¡Un asteroide se acerca a velocidades extremadamente peligrosas!, ¡Va a causar estragos y problemas!')\n",
    "else:\n",
    "    print( \"Su velocidad es \" + str(Vel_asteroide) + \" Km/s \")\n",
    "    print('¡Todo en orden, sigamos en esta vida!')\n",
    "\n"
   ]
  },
  {
   "cell_type": "markdown",
   "metadata": {},
   "source": [
    "\n",
    "Ejecicio 2\n",
    "\n",
    "Si un asteroide entra en la atmósfera de la Tierra a una velocidad mayor o igual a 20 km/s, a veces produce un rayo de luz que se puede ver desde la Tierra. Escribe la lógica condicional que usa declaraciones if, else, y elif para alertar a las personas de todo el mundo que deben buscar un asteroide en el cielo. ¡Hay uno que se dirige a la tierra ahora a una velocidad de 19 km/s!"
   ]
  },
  {
   "cell_type": "code",
   "execution_count": null,
   "metadata": {},
   "outputs": [],
   "source": [
    "# Agrega el código para crear una variable para un asteroide que viaja a 19 km/s\n",
    "# Escribe varias expresiones de prueba para determinar si puedes ver el rayo de luz desde la tierra\n",
    "# Agrega las instrucciones que se ejecutarán si las expresiones de prueba son True o False"
   ]
  },
  {
   "cell_type": "code",
   "execution_count": 5,
   "metadata": {},
   "outputs": [
    {
     "name": "stdout",
     "output_type": "stream",
     "text": [
      "¡Nada que ver aquí!, ¡Todo en orden!\n"
     ]
    }
   ],
   "source": [
    "#Solution\n",
    "\n",
    "Vel_asteroide = 19 #Km/s\n",
    "if Vel_asteroide > 20 : #Km/s\n",
    "    print('¡Mira! ¡Hay una rayo de luz en el cielo!')\n",
    "elif Vel_asteroide == 20:\n",
    "    print('¡Mira! ¡Hay una rayo de luz en el cielo!')\n",
    "else:\n",
    "    print('¡Nada que ver aquí!, ¡Todo en orden!')"
   ]
  },
  {
   "cell_type": "markdown",
   "metadata": {},
   "source": [
    "## Adicional \n",
    "Con la logica condicional en la atmósfera de la Tierra a una velocidad mayor o igual a 20 km/s, a veces produce un rayo de luz que se puede ver desde la Tierra. Escribe la lógica condicional que usa declaraciones if, else, y elif para alertar a las personas de todo el mundo que deben buscar un asteroide en el cielo. \n",
    "Que revise un asteroide que se dirige a la tierra ahora a una velocidad de constante por km/s"
   ]
  },
  {
   "cell_type": "code",
   "execution_count": 7,
   "metadata": {},
   "outputs": [
    {
     "name": "stdout",
     "output_type": "stream",
     "text": [
      "Velocimetro de asteroides\n",
      "Revisando su velocidad\n",
      "Su velocidad es 25 Km/s \n",
      "¡Mira! ¡Hay una rayo de luz en el cielo!\n"
     ]
    }
   ],
   "source": [
    "print(\"Velocimetro de asteroides\")\n",
    "Vel_asteroide =(input(\"Cuantos km/s\"))\n",
    "print(\"Revisando su velocidad\")\n",
    "if int(Vel_asteroide) > 20:\n",
    "    print( \"Su velocidad es \" + str(Vel_asteroide) + \" Km/s \")\n",
    "    print('¡Mira! ¡Hay una rayo de luz en el cielo!')\n",
    "elif int(Vel_asteroide) == 20:\n",
    "    print( \"Su velocidad es \" + str(Vel_asteroide) + \" Km/s \")\n",
    "    print('¡Mira! ¡Hay una rayo de luz en el cielo!')    \n",
    "else:\n",
    "    print( \"Su velocidad es \" + str(Vel_asteroide) + \" Km/s \")\n",
    "    print('¡Nada que ver aquí, Todo en orden, sigamos en esta vida!')"
   ]
  },
  {
   "cell_type": "markdown",
   "metadata": {},
   "source": [
    "Ejercicio 3\n",
    "\n",
    "En este ejercicio, aprenderás información más matizada sobre cuándo los asteroides representan un peligro para la Tierra, y utilizarás esa información para mejorar nuestro sistema de advertencia. Aquí está la nueva información que necesitas saber:\n",
    "\n",
    "*Los asteroides de menos de 25 metros en su dimensión más grande probablemente se quemarán a medida que entren en la atmósfera de la Tierra.\n",
    "\n",
    "-> Si una pieza de un asteroide que es más grande que 25 metros pero más pequeña que 1000 metros golpeara la Tierra, causaría mucho daño.\n",
    "También discutimos en el ejercicio anterior que:\n",
    "\n",
    "-> La velocidad del asteroide varía en función de lo cerca que esté del sol, y cualquier velocidad superior a 25 kilómetros por segundo (km/s) merece una advertencia.\n",
    "-> Si un asteroide entra en la atmósfera de la Tierra a una velocidad mayor o igual a 20 km/s, a veces produce un rayo de luz que se puede ver desde la Tierra.\n",
    "\n",
    "Usando toda esta información, escribe un programa que emita la advertencia o información correcta a la gente de la Tierra, según la velocidad y el tamaño de un asteroide. Utiliza instrucciones if, else, y elif, así como los operadores and y or.\n",
    "\n"
   ]
  },
  {
   "cell_type": "code",
   "execution_count": null,
   "metadata": {},
   "outputs": [],
   "source": [
    "Vel_asteroide = 25\n",
    "tam_asteroide = 40\n",
    "if Vel_asteroide > 25 and tam_asteroide > 25:\n",
    "    print('¡Alerta roja! ¡Un asteroide se acerca a velocidades extremadamente peligrosas!, ¡Va a causar estragos y problemas!')\n",
    "elif Vel_asteroide >= 20:\n",
    "    print('¡Mira! ¡Hay una rayo de luz en el cielo!')\n",
    "elif tam_asteroide < 25:\n",
    "    print('¡Nada que ver aquí, Todo en orden, sigamos en esta vida! :P')\n",
    "else:\n",
    "    print('¡Nada que ver aquí, Todo en orden, sigamos en esta vida! :P')"
   ]
  },
  {
   "cell_type": "markdown",
   "metadata": {},
   "source": [
    "## Adicional \n",
    "Con la logica condicional de la información más matizada sobre cuándo los asteroides representan un peligro para la Tierra, y utilizarás esa información para mejorar nuestro sistema de advertencia. Aquí está la nueva información que necesitas saber:\n",
    "\n",
    "*Los asteroides de menos de 25 metros en su dimensión más grande probablemente se quemarán a medida que entren en la atmósfera de la Tierra.\n",
    "\n",
    "*Si una pieza de un asteroide que es más grande que 25 metros pero más pequeña que 1000 metros golpeara la Tierra, causaría mucho daño.\n",
    "\n",
    "Con la informacion capturada\n",
    "\n",
    "*La velocidad del asteroide varía en función de lo cerca que esté del sol, y cualquier velocidad superior a 25 kilómetros por segundo (km/s) merece una advertencia y con el tamano de 25 metros, claro esta.\n",
    "\n",
    "*Si un asteroide entra en la atmósfera de la Tierra a una velocidad mayor o igual a 20 km/s, a veces produce un rayo de luz que se puede ver desde la Tierra.\n",
    "\n",
    "Asi podemos usar el verificador de asteroides"
   ]
  },
  {
   "cell_type": "code",
   "execution_count": 1,
   "metadata": {},
   "outputs": [
    {
     "name": "stdout",
     "output_type": "stream",
     "text": [
      "Velocimetro de asteroides\n",
      "Revisando su velocidad y la longitud\n",
      "Su velocidad es 30 Km/s  y su longitud es 26 metros \n",
      "¡Alerta roja! ¡Un asteroide se acerca a velocidades extremadamente peligrosas!\n",
      "¡Ademas es demasiado grande! , ¡Va a causar estragos y problemas!\n"
     ]
    }
   ],
   "source": [
    "print(\"Velocimetro de asteroides\")\n",
    "Vel_asteroide =(input(\"Cuantos km/s viaja el asteroide\"))\n",
    "tam_asteroide =(input(\"Cuantos metros mide el asteroide\"))\n",
    "print(\"Revisando su velocidad y la longitud\")\n",
    "if int(Vel_asteroide) > 25 and int(tam_asteroide) > 25:\n",
    "    print( \"Su velocidad es \" + str(Vel_asteroide) + \" Km/s \" + \" y su longitud es \" + str(tam_asteroide) + \" metros \")\n",
    "    print('¡Alerta roja! ¡Un asteroide se acerca a velocidades extremadamente peligrosas!')\n",
    "    print('¡Ademas es demasiado grande! , ¡Va a causar estragos y problemas!')\n",
    "elif int(Vel_asteroide) >= 20:\n",
    "    print( \"Su velocidad es \" + str(Vel_asteroide) + \" Km/s \" + \" y su longitud es \" + str(tam_asteroide) + \" metros \")\n",
    "    print('¡Mira! ¡Hay una rayo de luz en el cielo!')\n",
    "elif int(tam_asteroide) < 25:\n",
    "    print( \"Su velocidad es \" + str(Vel_asteroide) + \" Km/s \" + \" y su longitud es \" + str(tam_asteroide) + \" metros \")\n",
    "    print('¡Nada que ver aquí, Todo en orden, sigamos en esta vida! :P')\n",
    "else:\n",
    "    print( \"Su velocidad es \" + str(Vel_asteroide) + \" Km/s \" + \" y su longitud es \" + str(tam_asteroide) + \" metros \")\n",
    "    print('¡Nada que ver aquí, Todo en orden, sigamos en esta vida! :P')"
   ]
  }
 ],
 "metadata": {
  "interpreter": {
   "hash": "57baa5815c940fdaff4d14510622de9616cae602444507ba5d0b6727c008cbd6"
  },
  "kernelspec": {
   "display_name": "Python 3.7.8 64-bit",
   "language": "python",
   "name": "python3"
  },
  "language_info": {
   "codemirror_mode": {
    "name": "ipython",
    "version": 3
   },
   "file_extension": ".py",
   "mimetype": "text/x-python",
   "name": "python",
   "nbconvert_exporter": "python",
   "pygments_lexer": "ipython3",
   "version": "3.10.2"
  },
  "orig_nbformat": 4
 },
 "nbformat": 4,
 "nbformat_minor": 2
}
