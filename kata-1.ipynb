{
 "cells": [
  {
   "cell_type": "markdown",
   "metadata": {},
   "source": [
    "## Mi primer programa de kata1"
   ]
  },
  {
   "cell_type": "code",
   "execution_count": null,
   "metadata": {},
   "outputs": [],
   "source": [
    "# Para crear este programa, deberás utilizar los conceptos que aprendiste en el último módulo. Usarás Jupyter Notebook en este ejercicio, \n",
    "# que es una combinación de texto y código con la que puede interactuar. Finaliza el código siguiente para que el resultado muestre la fecha de hoy.\n",
    "from datetime import date\n",
    "print(\"Today's date is: \")"
   ]
  },
  {
   "cell_type": "markdown",
   "metadata": {},
   "source": [
    "Solucion"
   ]
  },
  {
   "cell_type": "code",
   "execution_count": 3,
   "metadata": {},
   "outputs": [
    {
     "name": "stdout",
     "output_type": "stream",
     "text": [
      "Today's date is: 2022-02-11\n"
     ]
    }
   ],
   "source": [
    "from datetime import date\n",
    "\n",
    "print(\"Today's date is: \" + str(date.today()))"
   ]
  },
  {
   "cell_type": "markdown",
   "metadata": {},
   "source": [
    "## Debo construir un convertidor de unidades"
   ]
  },
  {
   "cell_type": "code",
   "execution_count": null,
   "metadata": {},
   "outputs": [],
   "source": [
    "#El oficial superior -> \"Necesito una cosa más: debes realizar un programa de conversión entre parsecs y años luz. \n",
    "# Tener un programa de este tipo podría ser realmente útil en el puente para trazar nuestro curso\".\n",
    "#Tú-> \"¡Lo haré!, 10-4\"\n",
    "\n",
    "parsec = 11\n",
    "\n",
    "lightyears = 0\n",
    "\n",
    "print(str(parsec) + \" parsec, is \" + str(lightyears) + \" lightyears\")\n",
    "\n",
    "# 1 parsec es 3.26156 años luz. Utiliza el operador de multiplicación"
   ]
  },
  {
   "cell_type": "markdown",
   "metadata": {},
   "source": [
    "Solucion"
   ]
  },
  {
   "cell_type": "code",
   "execution_count": 3,
   "metadata": {},
   "outputs": [
    {
     "name": "stdout",
     "output_type": "stream",
     "text": [
      "In English\n",
      "11 parsec, is 35.877159999999996 lightyears\n",
      "\n",
      "En español\n",
      "11 parsec, es 35.877159999999996 años luz\n"
     ]
    }
   ],
   "source": [
    "parsec = 11\n",
    "\n",
    "lightyears = parsec * 3.26156 # lightyears es en español \"años luz\"\n",
    "\n",
    "print(\"In English\")\n",
    "print(str(parsec) + \" parsec, is \" + str(lightyears) + \" lightyears\") # en ingles\n",
    "\n",
    "print(\"\\nEn español\")\n",
    "print(str(parsec) + \" parsec, es \" + str(lightyears) + \" años luz\") # en español\n"
   ]
  },
  {
   "cell_type": "markdown",
   "metadata": {},
   "source": [
    "## Adicional dame cuantos parsec en dar años luz en los proximos viajes"
   ]
  },
  {
   "cell_type": "code",
   "execution_count": 23,
   "metadata": {},
   "outputs": [
    {
     "name": "stdout",
     "output_type": "stream",
     "text": [
      "Calculadora de convertidor de unidades\n",
      "23 parsec\n",
      "In English\n",
      "23 parsec, is 75.01588 lightyears\n",
      "\n",
      "En español\n",
      "23 parsec, es 75.01588 años luz\n"
     ]
    }
   ],
   "source": [
    "print(\"Calculadora de convertidor de unidades\")\n",
    "parsec =(input(\"Cuantos parsec\"))\n",
    "print(parsec + \" parsec\")\n",
    "\n",
    "\n",
    "lightyears = int(parsec) * 3.26156 # lightyears es en español \"años luz\"\n",
    "\n",
    "print(\"In English\")\n",
    "print(str(parsec) + \" parsec, is \" + str(lightyears) + \" lightyears\") # en ingles\n",
    "\n",
    "print(\"\\nEn español\")\n",
    "print(str(parsec) + \" parsec, es \" + str(lightyears) + \" años luz\") # en español"
   ]
  }
 ],
 "metadata": {
  "interpreter": {
   "hash": "57baa5815c940fdaff4d14510622de9616cae602444507ba5d0b6727c008cbd6"
  },
  "kernelspec": {
   "display_name": "Python 3.7.8 64-bit",
   "language": "python",
   "name": "python3"
  },
  "language_info": {
   "codemirror_mode": {
    "name": "ipython",
    "version": 3
   },
   "file_extension": ".py",
   "mimetype": "text/x-python",
   "name": "python",
   "nbconvert_exporter": "python",
   "pygments_lexer": "ipython3",
   "version": "3.7.8"
  },
  "orig_nbformat": 4
 },
 "nbformat": 4,
 "nbformat_minor": 2
}
