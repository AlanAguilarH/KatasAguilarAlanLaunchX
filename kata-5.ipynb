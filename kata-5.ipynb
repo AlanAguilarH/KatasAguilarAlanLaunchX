{
 "cells": [
  {
   "cell_type": "markdown",
   "metadata": {},
   "source": [
    "## Ejercicio1 - Utilizar operadores aritméticos\n",
    "Operadores aritméticos en Python\n",
    "Python proporciona operadores aritméticos comunes para que puedas realizar operaciones matemáticas en tu código. Estos incluyen las cuatro operaciones principales de suma, resta, multiplicación y división.\n",
    "\n",
    "Exploremos cómo podemos crear un programa que pueda calcular la distancia entre dos planetas. Comenzaremos usando dos distancias de planetas: Tierra (149.597.870 km) y Júpiter (778.547.200 km).\n"
   ]
  },
  {
   "cell_type": "code",
   "execution_count": 1,
   "metadata": {},
   "outputs": [],
   "source": [
    "# Crear variables para almacenar las dos distancias\n",
    "# ¡Asegúrate de quitar las comas!\n",
    "#solucion\n",
    "\n",
    "Planeta_tierra = 149597870 #km\n",
    "Planeta_jupiter = 778547200 #km"
   ]
  },
  {
   "cell_type": "markdown",
   "metadata": {},
   "source": [
    "Realizar la operación.\n",
    "\n",
    "Con los valores obtenidos, es el momento de añadir el código para realizar la operación. Restarás el primer planeta del segundo para determinar la distancia en kilómetros. A continuación, puedes convertir la distancia del kilómetro en millas multiplicándola por 0.621."
   ]
  },
  {
   "cell_type": "code",
   "execution_count": 10,
   "metadata": {},
   "outputs": [
    {
     "name": "stdout",
     "output_type": "stream",
     "text": [
      "caso 1: en km\n",
      "Distancia entre Jupites - tierra es 628949330 km\n",
      "caso 2: en mi\n",
      "Distancia entre Jupites - tierra es 390577534 millas\n"
     ]
    }
   ],
   "source": [
    "# Calcular la distancia entre planetas\n",
    "# solucion\n",
    "\n",
    "print(\"caso 1: en km\")\n",
    "dist_km = Planeta_jupiter - Planeta_tierra\n",
    "print(\"Distancia entre Jupites - tierra es\", int(dist_km), \"km\")\n",
    "\n",
    "print(\"caso 2: en mi\")\n",
    "dist_mi = dist_km*0.621\n",
    "print(\"Distancia entre Jupites - tierra es\", round(dist_mi), \"millas\")\n"
   ]
  },
  {
   "cell_type": "markdown",
   "metadata": {},
   "source": [
    "## Ejercicio 2: convierte cadenas en números y usa valores absolutos\n",
    "Crear una aplicación para trabajar con números y entrada de usuario\n",
    "Con frecuencia, deberás convertir los valores de cadena en números para realizar correctamente diferentes operaciones o determinar el valor absoluto de un número.\n",
    "\n",
    "Para crear nuestra aplicación, queremos leer la distancia del sol para dos planetas, y luego mostrar la distancia entre los planetas. Haremos esto usando input para leer los valores, int para convertir a entero y luego abs para convertir el resultado en su valor absoluto.\n",
    "\n",
    "Lee los valores\n",
    "Usando input, agrega el código para leer la distancia del sol para cada planeta, considerando 2 planetas."
   ]
  },
  {
   "cell_type": "code",
   "execution_count": 11,
   "metadata": {},
   "outputs": [],
   "source": [
    "# Almacenar las entradas del usuario\n",
    "#Pista: variable = input(\"¿Cuál es tu nombre?\")\n",
    "#solucion\n",
    "\n",
    "planeta_dis1 = input(\"¿Cuál es la distancia del planeta 1?\")\n",
    "nom_planeta1 = input(\"¿Cuál es el nombre del primer planeta?\")\n",
    "\n",
    "planeta_dis2 = input(\"¿Cuál es la distancia del planeta 2?\")\n",
    "nom_planeta2 = input(\"¿Cuál es el nombre del segundo planeta?\")"
   ]
  },
  {
   "cell_type": "markdown",
   "metadata": {},
   "source": [
    "Convertir a número\n",
    "Debido a que input devuelve valores de cadena, necesitamos convertirlos en números. Para nuestro ejemplo, usaremos int"
   ]
  },
  {
   "cell_type": "code",
   "execution_count": 23,
   "metadata": {},
   "outputs": [],
   "source": [
    "# Convierte las cadenas de ambos planetas a números enteros\n",
    "# solucion \n",
    "\n",
    "planeta_dis1 = int(planeta_dis1)\n",
    "planeta_dis2 = int(planeta_dis2)"
   ]
  },
  {
   "cell_type": "markdown",
   "metadata": {},
   "source": [
    "Realizar el cálculo y convertir a valor absoluto.\n",
    "\n",
    "Con los valores almacenados como números, ahora puedes agregar el código para realizar el cálculo, restando el primer planeta del segundo. Debido a que el segundo planeta podría ser un número mayor, usarás abs para convertirlo a un valor absoluto. También agregarás el código para mostrar el resultado en millas multiplicando la distancia del kilómetro por 0.621"
   ]
  },
  {
   "cell_type": "code",
   "execution_count": 31,
   "metadata": {},
   "outputs": [
    {
     "name": "stdout",
     "output_type": "stream",
     "text": [
      "caso 1: en km\n",
      "Distancia entre Xeona - Titano es 271146061 km\n",
      "caso 2: en millas\n",
      "Distancia entre Xeona - Titano es 168381704 millas\n"
     ]
    }
   ],
   "source": [
    "# Realizar el cálculo y determinar el valor absoluto\n",
    "# solucion\n",
    "\n",
    "print(\"caso 1: en km\")\n",
    "dist_km = planeta_dis2 - planeta_dis1\n",
    "print(\"Distancia entre\", nom_planeta1, \"-\", nom_planeta2, \"es\", abs(dist_km), \"km\")\n",
    "\n",
    "# Convertir de KM a Millas\n",
    "# solucion\n",
    "\n",
    "print(\"caso 2: en millas\")\n",
    "dist_mi = dist_km * 0.621\n",
    "print(\"Distancia entre\", nom_planeta1, \"-\", nom_planeta2, \"es\", abs(round(dist_mi)), \"millas\")\n"
   ]
  },
  {
   "cell_type": "markdown",
   "metadata": {},
   "source": [
    "## Prueba tu aplicación\n",
    "\n",
    "Para probar el proyecto, ejecuta tu notebook. En la parte superior de vscode surgirá un cuadro de diálogo para que proporciones las distancias. Puede utilizar los datos de la tabla siguiente:\n"
   ]
  },
  {
   "cell_type": "markdown",
   "metadata": {},
   "source": [
    "Planeta\tDistancia al sol.\n",
    "\n",
    "Mercurio 57900000\n",
    "Venus\t 108200000\n",
    "Tierra\t 149600000\n",
    "Marte\t 227900000\n",
    "Júpiter\t 778600000\n",
    "Saturno\t 1433500000\n",
    "Urano\t 2872500000\n",
    "Neptuno\t 4495100000"
   ]
  },
  {
   "cell_type": "code",
   "execution_count": 32,
   "metadata": {},
   "outputs": [
    {
     "name": "stdout",
     "output_type": "stream",
     "text": [
      "caso 1: en km\n",
      "Distancia entre Marte - Urano es 2644600000 km\n",
      "caso 2: en millas\n",
      "Distancia entre Marte - Urano es 1642296600 millas\n"
     ]
    }
   ],
   "source": [
    "#solucion\n",
    "planeta_dis1 = input(\"¿Cuál es la distancia del planeta 1?\")\n",
    "nom_planeta1 = input(\"¿Cuál es el nombre del primer planeta?\")\n",
    "\n",
    "planeta_dis2 = input(\"¿Cuál es la distancia del planeta 2?\")\n",
    "nom_planeta2 = input(\"¿Cuál es el nombre del segundo planeta?\")\n",
    "\n",
    "planeta_dis1 = int(planeta_dis1)\n",
    "planeta_dis2 = int(planeta_dis2)\n",
    "\n",
    "print(\"caso 1: en km\")\n",
    "dist_km = planeta_dis2 - planeta_dis1\n",
    "print(\"Distancia entre\", nom_planeta1, \"-\", nom_planeta2, \"es\", abs(dist_km), \"km\")\n",
    "\n",
    "# Convertir de KM a Millas\n",
    "\n",
    "print(\"caso 2: en millas\")\n",
    "dist_mi = dist_km * 0.621\n",
    "print(\"Distancia entre\", nom_planeta1, \"-\", nom_planeta2, \"es\", abs(round(dist_mi)), \"millas\")"
   ]
  }
 ],
 "metadata": {
  "interpreter": {
   "hash": "aecd030d4c8316a52bf122072e28f84bcc79844c2684e041fef2e3f1d9f59078"
  },
  "kernelspec": {
   "display_name": "Python 3.10.2 64-bit",
   "language": "python",
   "name": "python3"
  },
  "language_info": {
   "codemirror_mode": {
    "name": "ipython",
    "version": 3
   },
   "file_extension": ".py",
   "mimetype": "text/x-python",
   "name": "python",
   "nbconvert_exporter": "python",
   "pygments_lexer": "ipython3",
   "version": "3.10.2"
  },
  "orig_nbformat": 4
 },
 "nbformat": 4,
 "nbformat_minor": 2
}
